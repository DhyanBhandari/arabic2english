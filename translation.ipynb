{
 "cells": [
  {
   "cell_type": "markdown",
   "source": [
    "# English to Arabic Translation "
   ],
   "metadata": {}
  },
  {
   "cell_type": "markdown",
   "source": [
    "## Imports"
   ],
   "metadata": {}
  },
  {
   "cell_type": "code",
   "execution_count": 35,
   "source": [
    "import pandas as pd\r\n",
    "import numpy as np\r\n",
    "import matplotlib.pyplot as plt \r\n",
    "import torch\r\n",
    "import random\r\n",
    "import re\r\n",
    "\r\n",
    "import spacy\r\n",
    "from spacy.tokenizer import Tokenizer\r\n",
    "from spacy.lang.ar import Arabic\r\n",
    "\r\n",
    "\r\n",
    "import torch\r\n",
    "import torch.nn as nn\r\n",
    "from torch import optim\r\n",
    "\r\n",
    "\r\n",
    "from torchtext import data\r\n",
    "from torchtext.legacy import data\r\n",
    "\r\n"
   ],
   "outputs": [],
   "metadata": {}
  },
  {
   "cell_type": "markdown",
   "source": [
    "## Data Processing"
   ],
   "metadata": {}
  },
  {
   "cell_type": "code",
   "execution_count": 33,
   "source": [
    "df = pd.read_csv(\"data/data.txt\")\r\n",
    "df = df.drop(df.columns[0], axis=1)\r\n",
    "df"
   ],
   "outputs": [
    {
     "output_type": "execute_result",
     "data": {
      "text/plain": [
       "                                                     eng  \\\n",
       "0                                                    Hi.   \n",
       "1                                                   Run!   \n",
       "2                                                  Help!   \n",
       "3                                                  Jump!   \n",
       "4                                                  Stop!   \n",
       "...                                                  ...   \n",
       "24633  rising voices promoting a more linguistically ...   \n",
       "24634  following last year s successful campaign we i...   \n",
       "24635  during last year s challenge we also met langu...   \n",
       "24636  to take part just follow the simple steps outl...   \n",
       "24637  you will also find links to some free web base...   \n",
       "\n",
       "                                                      ar  \n",
       "0                                                مرحبًا.  \n",
       "1                                                  اركض!  \n",
       "2                                                النجدة!  \n",
       "3                                                  اقفز!  \n",
       "4                                                    قف!  \n",
       "...                                                  ...  \n",
       "24633  شاركنا تحدي ابداع ميم بلغتك الام تعزيزا للتنوع...  \n",
       "24634  استكمالا لنجاح حملة العام السابق ندعوكم للمشار...  \n",
       "24635  تعرفنا خلال تحدي العام الماضي على ابطال لغويين...  \n",
       "24636  للمشاركة في التحدي اتبع الخطوات الموضحة على ال...  \n",
       "24637  ستجد ايضا روابط لمجموعة من منصات ابداع الميم ا...  \n",
       "\n",
       "[24638 rows x 2 columns]"
      ],
      "text/html": [
       "<div>\n",
       "<style scoped>\n",
       "    .dataframe tbody tr th:only-of-type {\n",
       "        vertical-align: middle;\n",
       "    }\n",
       "\n",
       "    .dataframe tbody tr th {\n",
       "        vertical-align: top;\n",
       "    }\n",
       "\n",
       "    .dataframe thead th {\n",
       "        text-align: right;\n",
       "    }\n",
       "</style>\n",
       "<table border=\"1\" class=\"dataframe\">\n",
       "  <thead>\n",
       "    <tr style=\"text-align: right;\">\n",
       "      <th></th>\n",
       "      <th>eng</th>\n",
       "      <th>ar</th>\n",
       "    </tr>\n",
       "  </thead>\n",
       "  <tbody>\n",
       "    <tr>\n",
       "      <th>0</th>\n",
       "      <td>Hi.</td>\n",
       "      <td>مرحبًا.</td>\n",
       "    </tr>\n",
       "    <tr>\n",
       "      <th>1</th>\n",
       "      <td>Run!</td>\n",
       "      <td>اركض!</td>\n",
       "    </tr>\n",
       "    <tr>\n",
       "      <th>2</th>\n",
       "      <td>Help!</td>\n",
       "      <td>النجدة!</td>\n",
       "    </tr>\n",
       "    <tr>\n",
       "      <th>3</th>\n",
       "      <td>Jump!</td>\n",
       "      <td>اقفز!</td>\n",
       "    </tr>\n",
       "    <tr>\n",
       "      <th>4</th>\n",
       "      <td>Stop!</td>\n",
       "      <td>قف!</td>\n",
       "    </tr>\n",
       "    <tr>\n",
       "      <th>...</th>\n",
       "      <td>...</td>\n",
       "      <td>...</td>\n",
       "    </tr>\n",
       "    <tr>\n",
       "      <th>24633</th>\n",
       "      <td>rising voices promoting a more linguistically ...</td>\n",
       "      <td>شاركنا تحدي ابداع ميم بلغتك الام تعزيزا للتنوع...</td>\n",
       "    </tr>\n",
       "    <tr>\n",
       "      <th>24634</th>\n",
       "      <td>following last year s successful campaign we i...</td>\n",
       "      <td>استكمالا لنجاح حملة العام السابق ندعوكم للمشار...</td>\n",
       "    </tr>\n",
       "    <tr>\n",
       "      <th>24635</th>\n",
       "      <td>during last year s challenge we also met langu...</td>\n",
       "      <td>تعرفنا خلال تحدي العام الماضي على ابطال لغويين...</td>\n",
       "    </tr>\n",
       "    <tr>\n",
       "      <th>24636</th>\n",
       "      <td>to take part just follow the simple steps outl...</td>\n",
       "      <td>للمشاركة في التحدي اتبع الخطوات الموضحة على ال...</td>\n",
       "    </tr>\n",
       "    <tr>\n",
       "      <th>24637</th>\n",
       "      <td>you will also find links to some free web base...</td>\n",
       "      <td>ستجد ايضا روابط لمجموعة من منصات ابداع الميم ا...</td>\n",
       "    </tr>\n",
       "  </tbody>\n",
       "</table>\n",
       "<p>24638 rows × 2 columns</p>\n",
       "</div>"
      ]
     },
     "metadata": {},
     "execution_count": 33
    }
   ],
   "metadata": {}
  },
  {
   "cell_type": "code",
   "execution_count": 34,
   "source": [
    "!python -m spacy download en_core_web_sm"
   ],
   "outputs": [
    {
     "output_type": "stream",
     "name": "stdout",
     "text": [
      "^C\n",
      "Collecting en-core-web-sm==3.1.0\n",
      "  Downloading https://github.com/explosion/spacy-models/releases/download/en_core_web_sm-3.1.0/en_core_web_sm-3.1.0-py3-none-any.whl (13.6 MB)\n",
      "Requirement already satisfied: spacy<3.2.0,>=3.1.0 in c:\\users\\ultrapc\\anaconda3\\envs\\torch\\lib\\site-packages (from en-core-web-sm==3.1.0) (3.1.2)\n",
      "Requirement already satisfied: blis<0.8.0,>=0.4.0 in c:\\users\\ultrapc\\anaconda3\\envs\\torch\\lib\\site-packages (from spacy<3.2.0,>=3.1.0->en-core-web-sm==3.1.0) (0.7.4)\n",
      "Requirement already satisfied: thinc<8.1.0,>=8.0.8 in c:\\users\\ultrapc\\anaconda3\\envs\\torch\\lib\\site-packages (from spacy<3.2.0,>=3.1.0->en-core-web-sm==3.1.0) (8.0.8)\n",
      "Requirement already satisfied: setuptools in c:\\users\\ultrapc\\anaconda3\\envs\\torch\\lib\\site-packages (from spacy<3.2.0,>=3.1.0->en-core-web-sm==3.1.0) (52.0.0.post20210125)\n",
      "Requirement already satisfied: jinja2 in c:\\users\\ultrapc\\anaconda3\\envs\\torch\\lib\\site-packages (from spacy<3.2.0,>=3.1.0->en-core-web-sm==3.1.0) (3.0.1)\n",
      "Requirement already satisfied: srsly<3.0.0,>=2.4.1 in c:\\users\\ultrapc\\anaconda3\\envs\\torch\\lib\\site-packages (from spacy<3.2.0,>=3.1.0->en-core-web-sm==3.1.0) (2.4.1)\n",
      "Requirement already satisfied: cymem<2.1.0,>=2.0.2 in c:\\users\\ultrapc\\anaconda3\\envs\\torch\\lib\\site-packages (from spacy<3.2.0,>=3.1.0->en-core-web-sm==3.1.0) (2.0.5)\n",
      "Requirement already satisfied: packaging>=20.0 in c:\\users\\ultrapc\\anaconda3\\envs\\torch\\lib\\site-packages (from spacy<3.2.0,>=3.1.0->en-core-web-sm==3.1.0) (21.0)\n",
      "Requirement already satisfied: murmurhash<1.1.0,>=0.28.0 in c:\\users\\ultrapc\\anaconda3\\envs\\torch\\lib\\site-packages (from spacy<3.2.0,>=3.1.0->en-core-web-sm==3.1.0) (1.0.5)\n",
      "Requirement already satisfied: preshed<3.1.0,>=3.0.2 in c:\\users\\ultrapc\\anaconda3\\envs\\torch\\lib\\site-packages (from spacy<3.2.0,>=3.1.0->en-core-web-sm==3.1.0) (3.0.5)\n",
      "Requirement already satisfied: spacy-legacy<3.1.0,>=3.0.7 in c:\\users\\ultrapc\\anaconda3\\envs\\torch\\lib\\site-packages (from spacy<3.2.0,>=3.1.0->en-core-web-sm==3.1.0) (3.0.8)\n",
      "Requirement already satisfied: wasabi<1.1.0,>=0.8.1 in c:\\users\\ultrapc\\anaconda3\\envs\\torch\\lib\\site-packages (from spacy<3.2.0,>=3.1.0->en-core-web-sm==3.1.0) (0.8.2)\n",
      "Requirement already satisfied: typer<0.4.0,>=0.3.0 in c:\\users\\ultrapc\\anaconda3\\envs\\torch\\lib\\site-packages (from spacy<3.2.0,>=3.1.0->en-core-web-sm==3.1.0) (0.3.2)\n",
      "Requirement already satisfied: numpy>=1.15.0 in c:\\users\\ultrapc\\anaconda3\\envs\\torch\\lib\\site-packages (from spacy<3.2.0,>=3.1.0->en-core-web-sm==3.1.0) (1.21.2)\n",
      "Requirement already satisfied: typing-extensions<4.0.0.0,>=3.7.4 in c:\\users\\ultrapc\\anaconda3\\envs\\torch\\lib\\site-packages (from spacy<3.2.0,>=3.1.0->en-core-web-sm==3.1.0) (3.10.0.0)\n",
      "Requirement already satisfied: pydantic!=1.8,!=1.8.1,<1.9.0,>=1.7.4 in c:\\users\\ultrapc\\anaconda3\\envs\\torch\\lib\\site-packages (from spacy<3.2.0,>=3.1.0->en-core-web-sm==3.1.0) (1.8.2)\n",
      "Requirement already satisfied: tqdm<5.0.0,>=4.38.0 in c:\\users\\ultrapc\\anaconda3\\envs\\torch\\lib\\site-packages (from spacy<3.2.0,>=3.1.0->en-core-web-sm==3.1.0) (4.62.1)\n",
      "Requirement already satisfied: pathy>=0.3.5 in c:\\users\\ultrapc\\anaconda3\\envs\\torch\\lib\\site-packages (from spacy<3.2.0,>=3.1.0->en-core-web-sm==3.1.0) (0.6.0)\n",
      "Requirement already satisfied: requests<3.0.0,>=2.13.0 in c:\\users\\ultrapc\\anaconda3\\envs\\torch\\lib\\site-packages (from spacy<3.2.0,>=3.1.0->en-core-web-sm==3.1.0) (2.26.0)\n",
      "Requirement already satisfied: catalogue<2.1.0,>=2.0.4 in c:\\users\\ultrapc\\anaconda3\\envs\\torch\\lib\\site-packages (from spacy<3.2.0,>=3.1.0->en-core-web-sm==3.1.0) (2.0.5)\n",
      "Requirement already satisfied: zipp>=0.5 in c:\\users\\ultrapc\\anaconda3\\envs\\torch\\lib\\site-packages (from catalogue<2.1.0,>=2.0.4->spacy<3.2.0,>=3.1.0->en-core-web-sm==3.1.0) (3.5.0)\n",
      "Requirement already satisfied: pyparsing>=2.0.2 in c:\\users\\ultrapc\\anaconda3\\envs\\torch\\lib\\site-packages (from packaging>=20.0->spacy<3.2.0,>=3.1.0->en-core-web-sm==3.1.0) (2.4.7)\n",
      "Requirement already satisfied: smart-open<6.0.0,>=5.0.0 in c:\\users\\ultrapc\\anaconda3\\envs\\torch\\lib\\site-packages (from pathy>=0.3.5->spacy<3.2.0,>=3.1.0->en-core-web-sm==3.1.0) (5.2.0)\n",
      "Requirement already satisfied: urllib3<1.27,>=1.21.1 in c:\\users\\ultrapc\\anaconda3\\envs\\torch\\lib\\site-packages (from requests<3.0.0,>=2.13.0->spacy<3.2.0,>=3.1.0->en-core-web-sm==3.1.0) (1.26.6)\n",
      "Requirement already satisfied: certifi>=2017.4.17 in c:\\users\\ultrapc\\anaconda3\\envs\\torch\\lib\\site-packages (from requests<3.0.0,>=2.13.0->spacy<3.2.0,>=3.1.0->en-core-web-sm==3.1.0) (2021.5.30)\n",
      "Requirement already satisfied: charset-normalizer~=2.0.0 in c:\\users\\ultrapc\\anaconda3\\envs\\torch\\lib\\site-packages (from requests<3.0.0,>=2.13.0->spacy<3.2.0,>=3.1.0->en-core-web-sm==3.1.0) (2.0.4)\n",
      "Requirement already satisfied: idna<4,>=2.5 in c:\\users\\ultrapc\\anaconda3\\envs\\torch\\lib\\site-packages (from requests<3.0.0,>=2.13.0->spacy<3.2.0,>=3.1.0->en-core-web-sm==3.1.0) (2.10)\n",
      "Requirement already satisfied: colorama in c:\\users\\ultrapc\\anaconda3\\envs\\torch\\lib\\site-packages (from tqdm<5.0.0,>=4.38.0->spacy<3.2.0,>=3.1.0->en-core-web-sm==3.1.0) (0.4.4)\n",
      "Requirement already satisfied: click<7.2.0,>=7.1.1 in c:\\users\\ultrapc\\anaconda3\\envs\\torch\\lib\\site-packages (from typer<0.4.0,>=0.3.0->spacy<3.2.0,>=3.1.0->en-core-web-sm==3.1.0) (7.1.2)\n",
      "Requirement already satisfied: MarkupSafe>=2.0 in c:\\users\\ultrapc\\anaconda3\\envs\\torch\\lib\\site-packages (from jinja2->spacy<3.2.0,>=3.1.0->en-core-web-sm==3.1.0) (2.0.1)\n",
      "✔ Download and installation successful\n",
      "You can now load the package via spacy.load('en_core_web_sm')\n"
     ]
    }
   ],
   "metadata": {}
  },
  {
   "cell_type": "markdown",
   "source": [
    "### tokenizers"
   ],
   "metadata": {}
  },
  {
   "cell_type": "code",
   "execution_count": 36,
   "source": [
    "seed=32\r\n",
    "\r\n",
    "spacy_eng = spacy.load(\"en_core_web_sm\")\r\n",
    "\r\n",
    "arab = Arabic()\r\n",
    "ar_Tokenizer = Tokenizer(arab.vocab)\r\n",
    "\r\n",
    "def engTokenizer(text):\r\n",
    " return  [word.text for word in spacy_eng.tokenizer(text)] \r\n",
    "\r\n",
    "def arTokenizer(sentence):\r\n",
    "    return  [word.text for word in \r\n",
    "             ar_Tokenizer(re.sub(r\"\\s+\",\" \",re.sub(r\"[\\.\\'\\\"\\n+]\",\" \",sentence)).strip())]\r\n",
    "\r\n",
    "SRC = data.Field(tokenize=engTokenizer,batch_first=False,init_token=\"<sos>\",eos_token=\"<eos>\")\r\n",
    "TRG = data.Field(tokenize=arTokenizer,batch_first=False,tokenizer_language=\"ar\",init_token=\"بداية\",eos_token=\"نهاية\")\r\n",
    "\r\n",
    "class TextDataset(data.Dataset):\r\n",
    "\r\n",
    "    def __init__(self, df, src_field, target_field, is_test=False, **kwargs):\r\n",
    "        fields = [('eng', src_field), ('ar',target_field)]\r\n",
    "        samples = []\r\n",
    "        for i, row in df.iterrows():\r\n",
    "            eng = row.eng \r\n",
    "            ar = row.ar\r\n",
    "            samples.append(data.Example.fromlist([eng, ar], fields))\r\n",
    "\r\n",
    "        super().__init__(samples, fields, **kwargs)\r\n",
    "    def __len__(self):\r\n",
    "        return len(self.samples)\r\n",
    "        \r\n",
    "    def __getitem__(self, idx):\r\n",
    "        return self.samples[idx]\r\n",
    "\r\n",
    "torchdataset = TextDataset(df,SRC,TRG)\r\n",
    "\r\n",
    "train_data, valid_data = torchdataset.split(split_ratio=0.8, random_state = random.seed(32))\r\n",
    "\r\n",
    "SRC.build_vocab(train_data,min_freq=2)\r\n",
    "TRG.build_vocab(train_data,min_freq=2)\r\n",
    "\r\n",
    "print(train_data[1].__dict__)\r\n"
   ],
   "outputs": [
    {
     "output_type": "stream",
     "name": "stdout",
     "text": [
      "{'eng': ['I', 'was', 'delayed', 'by', 'a', 'traffic', 'jam', '.'], 'ar': ['أخّرني', 'زحام', 'السير']}\n"
     ]
    }
   ],
   "metadata": {}
  },
  {
   "cell_type": "markdown",
   "source": [
    "### seting up the device"
   ],
   "metadata": {}
  },
  {
   "cell_type": "code",
   "execution_count": 37,
   "source": [
    "device = torch.device(\"cuda\" if torch.cuda.is_available() else \"cpu\")\r\n",
    "print(device)\r\n",
    "print(torch.cuda.get_device_name(0))\r\n",
    "# full infos\r\n",
    "# !nvidia-smi"
   ],
   "outputs": [
    {
     "output_type": "stream",
     "name": "stdout",
     "text": [
      "cuda\n",
      "NVIDIA GeForce RTX 3060 Ti\n"
     ]
    }
   ],
   "metadata": {}
  },
  {
   "cell_type": "markdown",
   "source": [
    "## Transformer Class"
   ],
   "metadata": {}
  },
  {
   "cell_type": "code",
   "execution_count": 38,
   "source": [
    "class Transformer(nn.Module):\r\n",
    "    def __init__(\r\n",
    "        self,\r\n",
    "        embedding_size,\r\n",
    "        src_vocab_size,\r\n",
    "        trg_vocab_size,\r\n",
    "        src_pad_idx,\r\n",
    "        num_heads,\r\n",
    "        num_encoder_layers,\r\n",
    "        num_decoder_layers,\r\n",
    "        forward_expansion,\r\n",
    "        dropout,\r\n",
    "        max_len,\r\n",
    "        device,\r\n",
    "    ):\r\n",
    "        super(Transformer, self).__init__()\r\n",
    "        self.src_embeddings = nn.Embedding(src_vocab_size,embedding_size)\r\n",
    "        self.src_positional_embeddings= nn.Embedding(max_len,embedding_size)\r\n",
    "        self.trg_embeddings= nn.Embedding(trg_vocab_size,embedding_size)\r\n",
    "        self.trg_positional_embeddings= nn.Embedding(max_len,embedding_size)\r\n",
    "        self.device = device\r\n",
    "        self.transformer = nn.Transformer(\r\n",
    "            embedding_size,\r\n",
    "            num_heads,\r\n",
    "            num_encoder_layers,\r\n",
    "            num_decoder_layers,\r\n",
    "            forward_expansion,\r\n",
    "            dropout,\r\n",
    "        )\r\n",
    "\r\n",
    "        self.fc_out = nn.Linear(embedding_size, trg_vocab_size)\r\n",
    "        self.dropout = nn.Dropout(dropout)\r\n",
    "        self.src_pad_idx = src_pad_idx\r\n",
    "    \r\n",
    "    def make_src_mask(self, src):\r\n",
    "        src_mask = src.transpose(0,1) == self.src_pad_idx\r\n",
    "\r\n",
    "        return src_mask\r\n",
    "\r\n",
    "    def forward(self,src,trg):\r\n",
    "        src_seq_length, S = src.shape\r\n",
    "        trg_seq_length, S = trg.shape\r\n",
    "        #adding zeros is an easy way\r\n",
    "        src_positions = (\r\n",
    "            torch.arange(0, src_seq_length).unsqueeze(1).expand(src_seq_length, S).to(self.device)\r\n",
    "        )\r\n",
    "        \r\n",
    "        \r\n",
    "        trg_positions = (\r\n",
    "            torch.arange(0, trg_seq_length).unsqueeze(1).expand(trg_seq_length, S).to(self.device)\r\n",
    "        )\r\n",
    "\r\n",
    "        embed_src  = self.dropout(\r\n",
    "                ( self.src_embeddings(src) + self.src_positional_embeddings(src_positions) )\r\n",
    "            )\r\n",
    "\r\n",
    "        embed_trg = self.dropout(\r\n",
    "                ( self.trg_embeddings(trg) + self.trg_positional_embeddings(trg_positions) )\r\n",
    "            )\r\n",
    "        \r\n",
    "        src_padding_mask = self.make_src_mask(src)\r\n",
    "        trg_mask = self.transformer.generate_square_subsequent_mask(trg_seq_length).to(device)\r\n",
    "        \r\n",
    "        \r\n",
    "        out = self.transformer(embed_src,embed_trg, src_key_padding_mask=src_padding_mask,tgt_mask=trg_mask )\r\n",
    "        out= self.fc_out(out)\r\n",
    "\r\n",
    "        return out"
   ],
   "outputs": [],
   "metadata": {}
  },
  {
   "cell_type": "markdown",
   "source": [
    "## Model and Parameters "
   ],
   "metadata": {}
  },
  {
   "cell_type": "code",
   "execution_count": 40,
   "source": [
    "BATCH_SIZE = 16\r\n",
    "\r\n",
    "train_iter, valid_iter = data.BucketIterator.splits(\r\n",
    "    (train_data,valid_data), \r\n",
    "    batch_size = BATCH_SIZE,\r\n",
    "    sort=None,\r\n",
    "    sort_within_batch=False,\r\n",
    "    sort_key=lambda x: len(x.eng),\r\n",
    "    device = device,\r\n",
    "    shuffle=True\r\n",
    ")"
   ],
   "outputs": [],
   "metadata": {}
  },
  {
   "cell_type": "code",
   "execution_count": 42,
   "source": [
    "load_model = False\r\n",
    "save_model = True\r\n",
    "\r\n",
    "num_epochs = 40\r\n",
    "learning_rate = 0.0003\r\n",
    "\r\n",
    "num_heads = 8\r\n",
    "num_encoder_layers = 3\r\n",
    "num_decoder_layers = 3\r\n",
    "\r\n",
    "max_len= 230\r\n",
    "dropout = 0.10\r\n",
    "embedding_size= 256\r\n",
    "src_pad_idx = SRC.vocab.stoi[\"<pad>\"]\r\n",
    "forward_expansion = 4\r\n",
    "step = 0\r\n",
    "\r\n",
    "\r\n",
    "src_vocab_size  = len(SRC.vocab)\r\n",
    "print(\"Size of english vocabulary:\",src_vocab_size)\r\n",
    "\r\n",
    "trg_vocab_size =len(TRG.vocab)\r\n",
    "print(\"Size of arabic vocabulary:\",trg_vocab_size)\r\n",
    "\r\n",
    "\r\n",
    "model = Transformer(        \r\n",
    "    embedding_size,\r\n",
    "    src_vocab_size,\r\n",
    "    trg_vocab_size,\r\n",
    "    src_pad_idx,\r\n",
    "    num_heads,\r\n",
    "    num_encoder_layers,\r\n",
    "    num_decoder_layers,\r\n",
    "    forward_expansion,\r\n",
    "    dropout,\r\n",
    "    max_len,\r\n",
    "    device,\r\n",
    ").to(device)"
   ],
   "outputs": [
    {
     "output_type": "stream",
     "name": "stdout",
     "text": [
      "Size of english vocabulary: 12812\n",
      "Size of arabic vocabulary: 22067\n"
     ]
    }
   ],
   "metadata": {}
  },
  {
   "cell_type": "code",
   "execution_count": 43,
   "source": [
    "print(model)"
   ],
   "outputs": [
    {
     "output_type": "stream",
     "name": "stdout",
     "text": [
      "Transformer(\n",
      "  (src_embeddings): Embedding(12812, 256)\n",
      "  (src_positional_embeddings): Embedding(230, 256)\n",
      "  (trg_embeddings): Embedding(22067, 256)\n",
      "  (trg_positional_embeddings): Embedding(230, 256)\n",
      "  (transformer): Transformer(\n",
      "    (encoder): TransformerEncoder(\n",
      "      (layers): ModuleList(\n",
      "        (0): TransformerEncoderLayer(\n",
      "          (self_attn): MultiheadAttention(\n",
      "            (out_proj): NonDynamicallyQuantizableLinear(in_features=256, out_features=256, bias=True)\n",
      "          )\n",
      "          (linear1): Linear(in_features=256, out_features=4, bias=True)\n",
      "          (dropout): Dropout(p=0.1, inplace=False)\n",
      "          (linear2): Linear(in_features=4, out_features=256, bias=True)\n",
      "          (norm1): LayerNorm((256,), eps=1e-05, elementwise_affine=True)\n",
      "          (norm2): LayerNorm((256,), eps=1e-05, elementwise_affine=True)\n",
      "          (dropout1): Dropout(p=0.1, inplace=False)\n",
      "          (dropout2): Dropout(p=0.1, inplace=False)\n",
      "        )\n",
      "        (1): TransformerEncoderLayer(\n",
      "          (self_attn): MultiheadAttention(\n",
      "            (out_proj): NonDynamicallyQuantizableLinear(in_features=256, out_features=256, bias=True)\n",
      "          )\n",
      "          (linear1): Linear(in_features=256, out_features=4, bias=True)\n",
      "          (dropout): Dropout(p=0.1, inplace=False)\n",
      "          (linear2): Linear(in_features=4, out_features=256, bias=True)\n",
      "          (norm1): LayerNorm((256,), eps=1e-05, elementwise_affine=True)\n",
      "          (norm2): LayerNorm((256,), eps=1e-05, elementwise_affine=True)\n",
      "          (dropout1): Dropout(p=0.1, inplace=False)\n",
      "          (dropout2): Dropout(p=0.1, inplace=False)\n",
      "        )\n",
      "        (2): TransformerEncoderLayer(\n",
      "          (self_attn): MultiheadAttention(\n",
      "            (out_proj): NonDynamicallyQuantizableLinear(in_features=256, out_features=256, bias=True)\n",
      "          )\n",
      "          (linear1): Linear(in_features=256, out_features=4, bias=True)\n",
      "          (dropout): Dropout(p=0.1, inplace=False)\n",
      "          (linear2): Linear(in_features=4, out_features=256, bias=True)\n",
      "          (norm1): LayerNorm((256,), eps=1e-05, elementwise_affine=True)\n",
      "          (norm2): LayerNorm((256,), eps=1e-05, elementwise_affine=True)\n",
      "          (dropout1): Dropout(p=0.1, inplace=False)\n",
      "          (dropout2): Dropout(p=0.1, inplace=False)\n",
      "        )\n",
      "      )\n",
      "      (norm): LayerNorm((256,), eps=1e-05, elementwise_affine=True)\n",
      "    )\n",
      "    (decoder): TransformerDecoder(\n",
      "      (layers): ModuleList(\n",
      "        (0): TransformerDecoderLayer(\n",
      "          (self_attn): MultiheadAttention(\n",
      "            (out_proj): NonDynamicallyQuantizableLinear(in_features=256, out_features=256, bias=True)\n",
      "          )\n",
      "          (multihead_attn): MultiheadAttention(\n",
      "            (out_proj): NonDynamicallyQuantizableLinear(in_features=256, out_features=256, bias=True)\n",
      "          )\n",
      "          (linear1): Linear(in_features=256, out_features=4, bias=True)\n",
      "          (dropout): Dropout(p=0.1, inplace=False)\n",
      "          (linear2): Linear(in_features=4, out_features=256, bias=True)\n",
      "          (norm1): LayerNorm((256,), eps=1e-05, elementwise_affine=True)\n",
      "          (norm2): LayerNorm((256,), eps=1e-05, elementwise_affine=True)\n",
      "          (norm3): LayerNorm((256,), eps=1e-05, elementwise_affine=True)\n",
      "          (dropout1): Dropout(p=0.1, inplace=False)\n",
      "          (dropout2): Dropout(p=0.1, inplace=False)\n",
      "          (dropout3): Dropout(p=0.1, inplace=False)\n",
      "        )\n",
      "        (1): TransformerDecoderLayer(\n",
      "          (self_attn): MultiheadAttention(\n",
      "            (out_proj): NonDynamicallyQuantizableLinear(in_features=256, out_features=256, bias=True)\n",
      "          )\n",
      "          (multihead_attn): MultiheadAttention(\n",
      "            (out_proj): NonDynamicallyQuantizableLinear(in_features=256, out_features=256, bias=True)\n",
      "          )\n",
      "          (linear1): Linear(in_features=256, out_features=4, bias=True)\n",
      "          (dropout): Dropout(p=0.1, inplace=False)\n",
      "          (linear2): Linear(in_features=4, out_features=256, bias=True)\n",
      "          (norm1): LayerNorm((256,), eps=1e-05, elementwise_affine=True)\n",
      "          (norm2): LayerNorm((256,), eps=1e-05, elementwise_affine=True)\n",
      "          (norm3): LayerNorm((256,), eps=1e-05, elementwise_affine=True)\n",
      "          (dropout1): Dropout(p=0.1, inplace=False)\n",
      "          (dropout2): Dropout(p=0.1, inplace=False)\n",
      "          (dropout3): Dropout(p=0.1, inplace=False)\n",
      "        )\n",
      "        (2): TransformerDecoderLayer(\n",
      "          (self_attn): MultiheadAttention(\n",
      "            (out_proj): NonDynamicallyQuantizableLinear(in_features=256, out_features=256, bias=True)\n",
      "          )\n",
      "          (multihead_attn): MultiheadAttention(\n",
      "            (out_proj): NonDynamicallyQuantizableLinear(in_features=256, out_features=256, bias=True)\n",
      "          )\n",
      "          (linear1): Linear(in_features=256, out_features=4, bias=True)\n",
      "          (dropout): Dropout(p=0.1, inplace=False)\n",
      "          (linear2): Linear(in_features=4, out_features=256, bias=True)\n",
      "          (norm1): LayerNorm((256,), eps=1e-05, elementwise_affine=True)\n",
      "          (norm2): LayerNorm((256,), eps=1e-05, elementwise_affine=True)\n",
      "          (norm3): LayerNorm((256,), eps=1e-05, elementwise_affine=True)\n",
      "          (dropout1): Dropout(p=0.1, inplace=False)\n",
      "          (dropout2): Dropout(p=0.1, inplace=False)\n",
      "          (dropout3): Dropout(p=0.1, inplace=False)\n",
      "        )\n",
      "      )\n",
      "      (norm): LayerNorm((256,), eps=1e-05, elementwise_affine=True)\n",
      "    )\n",
      "  )\n",
      "  (fc_out): Linear(in_features=256, out_features=22067, bias=True)\n",
      "  (dropout): Dropout(p=0.1, inplace=False)\n",
      ")\n"
     ]
    }
   ],
   "metadata": {}
  },
  {
   "cell_type": "markdown",
   "source": [
    "## Training"
   ],
   "metadata": {}
  },
  {
   "cell_type": "code",
   "execution_count": 44,
   "source": [
    "torch.cuda.empty_cache()"
   ],
   "outputs": [],
   "metadata": {}
  },
  {
   "cell_type": "code",
   "execution_count": 45,
   "source": [
    "loss_track = []\r\n",
    "loss_validation_track= []\r\n",
    "\r\n",
    "\r\n",
    "optimizer = optim.Adam(model.parameters(), lr=learning_rate)\r\n",
    "\r\n",
    "pad_idx = SRC.vocab.stoi[\"<pad>\"]\r\n",
    "criterion = nn.CrossEntropyLoss(ignore_index = pad_idx)\r\n",
    "for epoch in range(num_epochs):\r\n",
    "    stepLoss=[]\r\n",
    "    model.train()\r\n",
    "    for batch  in train_iter:\r\n",
    "        input_data = batch.eng.to(device)\r\n",
    "        target = batch.ar.to(device)\r\n",
    "\r\n",
    "        output = model(input_data,target[:-1])\r\n",
    "        optimizer.zero_grad()\r\n",
    "        \r\n",
    "        output = output.reshape(-1,trg_vocab_size)\r\n",
    "        target = target[1:].reshape(-1)\r\n",
    "\r\n",
    "        loss = criterion(output,target)\r\n",
    "        loss.backward()\r\n",
    "\r\n",
    "        optimizer.step()\r\n",
    "        stepLoss.append(loss.item())\r\n",
    "\r\n",
    "    loss_track.append(np.mean(stepLoss))\r\n",
    "    print(\" Epoch {} | Train Cross Entropy Loss: \".format(epoch),np.mean(stepLoss))\r\n",
    "    with torch.no_grad():    \r\n",
    "      stepValidLoss=[]\r\n",
    "      model.eval() # the evaluation mode for the model (doesn't apply dropout and batchNorm)\r\n",
    "      for i,batch  in enumerate(valid_iter):\r\n",
    "            input_sentence = batch.eng.to(device)\r\n",
    "            target = batch.ar.to(device)\r\n",
    "            optimizer.zero_grad()\r\n",
    "            output = model(input_sentence,target[:-1])\r\n",
    "            output = output.reshape(-1,trg_vocab_size)\r\n",
    "            target = target[1:].reshape(-1)\r\n",
    "            loss = criterion(output,target)\r\n",
    "                  \r\n",
    "            stepValidLoss.append(loss.item())\r\n",
    "    \r\n",
    "    loss_validation_track.append(np.mean(stepValidLoss))\r\n",
    "    print(\" Epoch {} | Validation Cross Entropy Loss: \".format(epoch),np.mean(stepValidLoss))   "
   ],
   "outputs": [
    {
     "output_type": "stream",
     "name": "stdout",
     "text": [
      " Epoch 0 | Train Cross Entropy Loss:  7.373960283669558\n",
      " Epoch 0 | Validation Cross Entropy Loss:  5.880086329076197\n",
      " Epoch 1 | Train Cross Entropy Loss:  6.804785260519424\n",
      " Epoch 1 | Validation Cross Entropy Loss:  5.650244109816366\n",
      " Epoch 2 | Train Cross Entropy Loss:  6.3876389404395955\n",
      " Epoch 2 | Validation Cross Entropy Loss:  5.424194188087018\n",
      " Epoch 3 | Train Cross Entropy Loss:  5.939395482857506\n",
      " Epoch 3 | Validation Cross Entropy Loss:  5.193913388561893\n",
      " Epoch 4 | Train Cross Entropy Loss:  5.471017166585117\n",
      " Epoch 4 | Validation Cross Entropy Loss:  5.0738202395377225\n",
      " Epoch 5 | Train Cross Entropy Loss:  5.007453001358292\n",
      " Epoch 5 | Validation Cross Entropy Loss:  5.03892142354668\n",
      " Epoch 6 | Train Cross Entropy Loss:  4.546164761503022\n",
      " Epoch 6 | Validation Cross Entropy Loss:  5.050074153132253\n",
      " Epoch 7 | Train Cross Entropy Loss:  4.110106670430729\n",
      " Epoch 7 | Validation Cross Entropy Loss:  5.021272602019372\n",
      " Epoch 8 | Train Cross Entropy Loss:  3.7094119793021836\n",
      " Epoch 8 | Validation Cross Entropy Loss:  5.065695788179125\n",
      " Epoch 9 | Train Cross Entropy Loss:  3.370920239524408\n",
      " Epoch 9 | Validation Cross Entropy Loss:  5.144681923575216\n",
      " Epoch 10 | Train Cross Entropy Loss:  3.08175372758082\n",
      " Epoch 10 | Validation Cross Entropy Loss:  5.2389594037811476\n",
      " Epoch 11 | Train Cross Entropy Loss:  2.8455306415434007\n",
      " Epoch 11 | Validation Cross Entropy Loss:  5.366808530572173\n",
      " Epoch 12 | Train Cross Entropy Loss:  2.6439826129512354\n",
      " Epoch 12 | Validation Cross Entropy Loss:  5.347141659104979\n",
      " Epoch 13 | Train Cross Entropy Loss:  2.4694927238992284\n",
      " Epoch 13 | Validation Cross Entropy Loss:  5.447841338523022\n",
      " Epoch 14 | Train Cross Entropy Loss:  2.313106194622331\n",
      " Epoch 14 | Validation Cross Entropy Loss:  5.516940226028492\n",
      " Epoch 15 | Train Cross Entropy Loss:  2.1899963119006776\n",
      " Epoch 15 | Validation Cross Entropy Loss:  5.596177757560433\n",
      " Epoch 16 | Train Cross Entropy Loss:  2.0675929187760724\n",
      " Epoch 16 | Validation Cross Entropy Loss:  5.791866578839042\n",
      " Epoch 17 | Train Cross Entropy Loss:  1.9589337083426388\n",
      " Epoch 17 | Validation Cross Entropy Loss:  5.800813396255691\n",
      " Epoch 18 | Train Cross Entropy Loss:  1.8638520727006647\n",
      " Epoch 18 | Validation Cross Entropy Loss:  5.81526035767097\n",
      " Epoch 19 | Train Cross Entropy Loss:  1.7834955305828677\n",
      " Epoch 19 | Validation Cross Entropy Loss:  5.937567580055881\n",
      " Epoch 20 | Train Cross Entropy Loss:  1.7015773770097014\n",
      " Epoch 20 | Validation Cross Entropy Loss:  6.05917166657262\n",
      " Epoch 21 | Train Cross Entropy Loss:  1.6298498789985458\n",
      " Epoch 21 | Validation Cross Entropy Loss:  6.099175018923623\n",
      " Epoch 22 | Train Cross Entropy Loss:  1.5578991189211995\n",
      " Epoch 22 | Validation Cross Entropy Loss:  6.316342009352399\n",
      " Epoch 23 | Train Cross Entropy Loss:  1.5023522684713462\n",
      " Epoch 23 | Validation Cross Entropy Loss:  6.3288041221631035\n",
      " Epoch 24 | Train Cross Entropy Loss:  1.4422336885004075\n",
      " Epoch 24 | Validation Cross Entropy Loss:  6.349859010089528\n",
      " Epoch 25 | Train Cross Entropy Loss:  1.3872594876432573\n",
      " Epoch 25 | Validation Cross Entropy Loss:  6.448271937184519\n",
      " Epoch 26 | Train Cross Entropy Loss:  1.3366634337739511\n",
      " Epoch 26 | Validation Cross Entropy Loss:  6.524111587505836\n",
      " Epoch 27 | Train Cross Entropy Loss:  1.289342918179252\n",
      " Epoch 27 | Validation Cross Entropy Loss:  6.558390767543347\n",
      " Epoch 28 | Train Cross Entropy Loss:  1.239709203167782\n",
      " Epoch 28 | Validation Cross Entropy Loss:  6.802782370672597\n",
      " Epoch 29 | Train Cross Entropy Loss:  1.204290618757149\n",
      " Epoch 29 | Validation Cross Entropy Loss:  6.694742611476353\n",
      " Epoch 30 | Train Cross Entropy Loss:  1.1609895953110285\n",
      " Epoch 30 | Validation Cross Entropy Loss:  6.803809370313372\n",
      " Epoch 31 | Train Cross Entropy Loss:  1.1232685358203076\n",
      " Epoch 31 | Validation Cross Entropy Loss:  6.846474601850881\n",
      " Epoch 32 | Train Cross Entropy Loss:  1.0915459011766044\n",
      " Epoch 32 | Validation Cross Entropy Loss:  6.833896152384869\n",
      " Epoch 33 | Train Cross Entropy Loss:  1.0511575592802715\n",
      " Epoch 33 | Validation Cross Entropy Loss:  6.937047156420621\n",
      " Epoch 34 | Train Cross Entropy Loss:  1.023156318765182\n",
      " Epoch 34 | Validation Cross Entropy Loss:  6.962940750183997\n",
      " Epoch 35 | Train Cross Entropy Loss:  0.9949023229880379\n",
      " Epoch 35 | Validation Cross Entropy Loss:  6.9992248802990105\n",
      " Epoch 36 | Train Cross Entropy Loss:  0.9662726597449223\n",
      " Epoch 36 | Validation Cross Entropy Loss:  7.070316462547748\n",
      " Epoch 37 | Train Cross Entropy Loss:  0.9355012958554866\n",
      " Epoch 37 | Validation Cross Entropy Loss:  7.131005607642137\n",
      " Epoch 38 | Train Cross Entropy Loss:  0.9069758366745013\n",
      " Epoch 38 | Validation Cross Entropy Loss:  7.229416341750653\n",
      " Epoch 39 | Train Cross Entropy Loss:  0.8845610964511122\n",
      " Epoch 39 | Validation Cross Entropy Loss:  7.1866128553043715\n"
     ]
    }
   ],
   "metadata": {}
  },
  {
   "cell_type": "code",
   "execution_count": 60,
   "source": [
    "#the train loss after 50 epoch\r\n",
    "plt.figure(figsize=(10,5))\r\n",
    "plt.plot(range(40),loss_track,label=\"train loss\")\r\n",
    "plt.plot(range(40),loss_validation_track,label=\"valiadtion loss\")\r\n",
    "plt.legend()\r\n",
    "plt.show()"
   ],
   "outputs": [
    {
     "output_type": "display_data",
     "data": {
      "text/plain": [
       "<Figure size 1000x500 with 1 Axes>"
      ],
      "image/svg+xml": "<?xml version=\"1.0\" encoding=\"utf-8\" standalone=\"no\"?>\r\n<!DOCTYPE svg PUBLIC \"-//W3C//DTD SVG 1.1//EN\"\r\n  \"http://www.w3.org/Graphics/SVG/1.1/DTD/svg11.dtd\">\r\n<svg height=\"308.278125pt\" version=\"1.1\" viewBox=\"0 0 585.7625 308.278125\" width=\"585.7625pt\" xmlns=\"http://www.w3.org/2000/svg\" xmlns:xlink=\"http://www.w3.org/1999/xlink\">\r\n <metadata>\r\n  <rdf:RDF xmlns:cc=\"http://creativecommons.org/ns#\" xmlns:dc=\"http://purl.org/dc/elements/1.1/\" xmlns:rdf=\"http://www.w3.org/1999/02/22-rdf-syntax-ns#\">\r\n   <cc:Work>\r\n    <dc:type rdf:resource=\"http://purl.org/dc/dcmitype/StillImage\"/>\r\n    <dc:date>2021-08-24T19:12:12.220413</dc:date>\r\n    <dc:format>image/svg+xml</dc:format>\r\n    <dc:creator>\r\n     <cc:Agent>\r\n      <dc:title>Matplotlib v3.4.3, https://matplotlib.org/</dc:title>\r\n     </cc:Agent>\r\n    </dc:creator>\r\n   </cc:Work>\r\n  </rdf:RDF>\r\n </metadata>\r\n <defs>\r\n  <style type=\"text/css\">*{stroke-linecap:butt;stroke-linejoin:round;}</style>\r\n </defs>\r\n <g id=\"figure_1\">\r\n  <g id=\"patch_1\">\r\n   <path d=\"M 0 308.278125 \r\nL 585.7625 308.278125 \r\nL 585.7625 0 \r\nL 0 0 \r\nz\r\n\" style=\"fill:#ffffff;\"/>\r\n  </g>\r\n  <g id=\"axes_1\">\r\n   <g id=\"patch_2\">\r\n    <path d=\"M 20.5625 284.4 \r\nL 578.5625 284.4 \r\nL 578.5625 7.2 \r\nL 20.5625 7.2 \r\nz\r\n\" style=\"fill:#ffffff;\"/>\r\n   </g>\r\n   <g id=\"matplotlib.axis_1\">\r\n    <g id=\"xtick_1\">\r\n     <g id=\"line2d_1\">\r\n      <defs>\r\n       <path d=\"M 0 0 \r\nL 0 3.5 \r\n\" id=\"m7e905feef1\" style=\"stroke:#000000;stroke-width:0.8;\"/>\r\n      </defs>\r\n      <g>\r\n       <use style=\"stroke:#000000;stroke-width:0.8;\" x=\"45.926136\" xlink:href=\"#m7e905feef1\" y=\"284.4\"/>\r\n      </g>\r\n     </g>\r\n     <g id=\"text_1\">\r\n      <!-- 0 -->\r\n      <g transform=\"translate(42.744886 298.998438)scale(0.1 -0.1)\">\r\n       <defs>\r\n        <path d=\"M 2034 4250 \r\nQ 1547 4250 1301 3770 \r\nQ 1056 3291 1056 2328 \r\nQ 1056 1369 1301 889 \r\nQ 1547 409 2034 409 \r\nQ 2525 409 2770 889 \r\nQ 3016 1369 3016 2328 \r\nQ 3016 3291 2770 3770 \r\nQ 2525 4250 2034 4250 \r\nz\r\nM 2034 4750 \r\nQ 2819 4750 3233 4129 \r\nQ 3647 3509 3647 2328 \r\nQ 3647 1150 3233 529 \r\nQ 2819 -91 2034 -91 \r\nQ 1250 -91 836 529 \r\nQ 422 1150 422 2328 \r\nQ 422 3509 836 4129 \r\nQ 1250 4750 2034 4750 \r\nz\r\n\" id=\"DejaVuSans-30\" transform=\"scale(0.015625)\"/>\r\n       </defs>\r\n       <use xlink:href=\"#DejaVuSans-30\"/>\r\n      </g>\r\n     </g>\r\n    </g>\r\n    <g id=\"xtick_2\">\r\n     <g id=\"line2d_2\">\r\n      <g>\r\n       <use style=\"stroke:#000000;stroke-width:0.8;\" x=\"110.961101\" xlink:href=\"#m7e905feef1\" y=\"284.4\"/>\r\n      </g>\r\n     </g>\r\n     <g id=\"text_2\">\r\n      <!-- 5 -->\r\n      <g transform=\"translate(107.779851 298.998438)scale(0.1 -0.1)\">\r\n       <defs>\r\n        <path d=\"M 691 4666 \r\nL 3169 4666 \r\nL 3169 4134 \r\nL 1269 4134 \r\nL 1269 2991 \r\nQ 1406 3038 1543 3061 \r\nQ 1681 3084 1819 3084 \r\nQ 2600 3084 3056 2656 \r\nQ 3513 2228 3513 1497 \r\nQ 3513 744 3044 326 \r\nQ 2575 -91 1722 -91 \r\nQ 1428 -91 1123 -41 \r\nQ 819 9 494 109 \r\nL 494 744 \r\nQ 775 591 1075 516 \r\nQ 1375 441 1709 441 \r\nQ 2250 441 2565 725 \r\nQ 2881 1009 2881 1497 \r\nQ 2881 1984 2565 2268 \r\nQ 2250 2553 1709 2553 \r\nQ 1456 2553 1204 2497 \r\nQ 953 2441 691 2322 \r\nL 691 4666 \r\nz\r\n\" id=\"DejaVuSans-35\" transform=\"scale(0.015625)\"/>\r\n       </defs>\r\n       <use xlink:href=\"#DejaVuSans-35\"/>\r\n      </g>\r\n     </g>\r\n    </g>\r\n    <g id=\"xtick_3\">\r\n     <g id=\"line2d_3\">\r\n      <g>\r\n       <use style=\"stroke:#000000;stroke-width:0.8;\" x=\"175.996066\" xlink:href=\"#m7e905feef1\" y=\"284.4\"/>\r\n      </g>\r\n     </g>\r\n     <g id=\"text_3\">\r\n      <!-- 10 -->\r\n      <g transform=\"translate(169.633566 298.998438)scale(0.1 -0.1)\">\r\n       <defs>\r\n        <path d=\"M 794 531 \r\nL 1825 531 \r\nL 1825 4091 \r\nL 703 3866 \r\nL 703 4441 \r\nL 1819 4666 \r\nL 2450 4666 \r\nL 2450 531 \r\nL 3481 531 \r\nL 3481 0 \r\nL 794 0 \r\nL 794 531 \r\nz\r\n\" id=\"DejaVuSans-31\" transform=\"scale(0.015625)\"/>\r\n       </defs>\r\n       <use xlink:href=\"#DejaVuSans-31\"/>\r\n       <use x=\"63.623047\" xlink:href=\"#DejaVuSans-30\"/>\r\n      </g>\r\n     </g>\r\n    </g>\r\n    <g id=\"xtick_4\">\r\n     <g id=\"line2d_4\">\r\n      <g>\r\n       <use style=\"stroke:#000000;stroke-width:0.8;\" x=\"241.031031\" xlink:href=\"#m7e905feef1\" y=\"284.4\"/>\r\n      </g>\r\n     </g>\r\n     <g id=\"text_4\">\r\n      <!-- 15 -->\r\n      <g transform=\"translate(234.668531 298.998438)scale(0.1 -0.1)\">\r\n       <use xlink:href=\"#DejaVuSans-31\"/>\r\n       <use x=\"63.623047\" xlink:href=\"#DejaVuSans-35\"/>\r\n      </g>\r\n     </g>\r\n    </g>\r\n    <g id=\"xtick_5\">\r\n     <g id=\"line2d_5\">\r\n      <g>\r\n       <use style=\"stroke:#000000;stroke-width:0.8;\" x=\"306.065997\" xlink:href=\"#m7e905feef1\" y=\"284.4\"/>\r\n      </g>\r\n     </g>\r\n     <g id=\"text_5\">\r\n      <!-- 20 -->\r\n      <g transform=\"translate(299.703497 298.998438)scale(0.1 -0.1)\">\r\n       <defs>\r\n        <path d=\"M 1228 531 \r\nL 3431 531 \r\nL 3431 0 \r\nL 469 0 \r\nL 469 531 \r\nQ 828 903 1448 1529 \r\nQ 2069 2156 2228 2338 \r\nQ 2531 2678 2651 2914 \r\nQ 2772 3150 2772 3378 \r\nQ 2772 3750 2511 3984 \r\nQ 2250 4219 1831 4219 \r\nQ 1534 4219 1204 4116 \r\nQ 875 4013 500 3803 \r\nL 500 4441 \r\nQ 881 4594 1212 4672 \r\nQ 1544 4750 1819 4750 \r\nQ 2544 4750 2975 4387 \r\nQ 3406 4025 3406 3419 \r\nQ 3406 3131 3298 2873 \r\nQ 3191 2616 2906 2266 \r\nQ 2828 2175 2409 1742 \r\nQ 1991 1309 1228 531 \r\nz\r\n\" id=\"DejaVuSans-32\" transform=\"scale(0.015625)\"/>\r\n       </defs>\r\n       <use xlink:href=\"#DejaVuSans-32\"/>\r\n       <use x=\"63.623047\" xlink:href=\"#DejaVuSans-30\"/>\r\n      </g>\r\n     </g>\r\n    </g>\r\n    <g id=\"xtick_6\">\r\n     <g id=\"line2d_6\">\r\n      <g>\r\n       <use style=\"stroke:#000000;stroke-width:0.8;\" x=\"371.100962\" xlink:href=\"#m7e905feef1\" y=\"284.4\"/>\r\n      </g>\r\n     </g>\r\n     <g id=\"text_6\">\r\n      <!-- 25 -->\r\n      <g transform=\"translate(364.738462 298.998438)scale(0.1 -0.1)\">\r\n       <use xlink:href=\"#DejaVuSans-32\"/>\r\n       <use x=\"63.623047\" xlink:href=\"#DejaVuSans-35\"/>\r\n      </g>\r\n     </g>\r\n    </g>\r\n    <g id=\"xtick_7\">\r\n     <g id=\"line2d_7\">\r\n      <g>\r\n       <use style=\"stroke:#000000;stroke-width:0.8;\" x=\"436.135927\" xlink:href=\"#m7e905feef1\" y=\"284.4\"/>\r\n      </g>\r\n     </g>\r\n     <g id=\"text_7\">\r\n      <!-- 30 -->\r\n      <g transform=\"translate(429.773427 298.998438)scale(0.1 -0.1)\">\r\n       <defs>\r\n        <path d=\"M 2597 2516 \r\nQ 3050 2419 3304 2112 \r\nQ 3559 1806 3559 1356 \r\nQ 3559 666 3084 287 \r\nQ 2609 -91 1734 -91 \r\nQ 1441 -91 1130 -33 \r\nQ 819 25 488 141 \r\nL 488 750 \r\nQ 750 597 1062 519 \r\nQ 1375 441 1716 441 \r\nQ 2309 441 2620 675 \r\nQ 2931 909 2931 1356 \r\nQ 2931 1769 2642 2001 \r\nQ 2353 2234 1838 2234 \r\nL 1294 2234 \r\nL 1294 2753 \r\nL 1863 2753 \r\nQ 2328 2753 2575 2939 \r\nQ 2822 3125 2822 3475 \r\nQ 2822 3834 2567 4026 \r\nQ 2313 4219 1838 4219 \r\nQ 1578 4219 1281 4162 \r\nQ 984 4106 628 3988 \r\nL 628 4550 \r\nQ 988 4650 1302 4700 \r\nQ 1616 4750 1894 4750 \r\nQ 2613 4750 3031 4423 \r\nQ 3450 4097 3450 3541 \r\nQ 3450 3153 3228 2886 \r\nQ 3006 2619 2597 2516 \r\nz\r\n\" id=\"DejaVuSans-33\" transform=\"scale(0.015625)\"/>\r\n       </defs>\r\n       <use xlink:href=\"#DejaVuSans-33\"/>\r\n       <use x=\"63.623047\" xlink:href=\"#DejaVuSans-30\"/>\r\n      </g>\r\n     </g>\r\n    </g>\r\n    <g id=\"xtick_8\">\r\n     <g id=\"line2d_8\">\r\n      <g>\r\n       <use style=\"stroke:#000000;stroke-width:0.8;\" x=\"501.170892\" xlink:href=\"#m7e905feef1\" y=\"284.4\"/>\r\n      </g>\r\n     </g>\r\n     <g id=\"text_8\">\r\n      <!-- 35 -->\r\n      <g transform=\"translate(494.808392 298.998438)scale(0.1 -0.1)\">\r\n       <use xlink:href=\"#DejaVuSans-33\"/>\r\n       <use x=\"63.623047\" xlink:href=\"#DejaVuSans-35\"/>\r\n      </g>\r\n     </g>\r\n    </g>\r\n    <g id=\"xtick_9\">\r\n     <g id=\"line2d_9\">\r\n      <g>\r\n       <use style=\"stroke:#000000;stroke-width:0.8;\" x=\"566.205857\" xlink:href=\"#m7e905feef1\" y=\"284.4\"/>\r\n      </g>\r\n     </g>\r\n     <g id=\"text_9\">\r\n      <!-- 40 -->\r\n      <g transform=\"translate(559.843357 298.998438)scale(0.1 -0.1)\">\r\n       <defs>\r\n        <path d=\"M 2419 4116 \r\nL 825 1625 \r\nL 2419 1625 \r\nL 2419 4116 \r\nz\r\nM 2253 4666 \r\nL 3047 4666 \r\nL 3047 1625 \r\nL 3713 1625 \r\nL 3713 1100 \r\nL 3047 1100 \r\nL 3047 0 \r\nL 2419 0 \r\nL 2419 1100 \r\nL 313 1100 \r\nL 313 1709 \r\nL 2253 4666 \r\nz\r\n\" id=\"DejaVuSans-34\" transform=\"scale(0.015625)\"/>\r\n       </defs>\r\n       <use xlink:href=\"#DejaVuSans-34\"/>\r\n       <use x=\"63.623047\" xlink:href=\"#DejaVuSans-30\"/>\r\n      </g>\r\n     </g>\r\n    </g>\r\n   </g>\r\n   <g id=\"matplotlib.axis_2\">\r\n    <g id=\"ytick_1\">\r\n     <g id=\"line2d_10\">\r\n      <defs>\r\n       <path d=\"M 0 0 \r\nL -3.5 0 \r\n\" id=\"m8033281915\" style=\"stroke:#000000;stroke-width:0.8;\"/>\r\n      </defs>\r\n      <g>\r\n       <use style=\"stroke:#000000;stroke-width:0.8;\" x=\"20.5625\" xlink:href=\"#m8033281915\" y=\"267.317212\"/>\r\n      </g>\r\n     </g>\r\n     <g id=\"text_10\">\r\n      <!-- 1 -->\r\n      <g transform=\"translate(7.2 271.11643)scale(0.1 -0.1)\">\r\n       <use xlink:href=\"#DejaVuSans-31\"/>\r\n      </g>\r\n     </g>\r\n    </g>\r\n    <g id=\"ytick_2\">\r\n     <g id=\"line2d_11\">\r\n      <g>\r\n       <use style=\"stroke:#000000;stroke-width:0.8;\" x=\"20.5625\" xlink:href=\"#m8033281915\" y=\"228.484649\"/>\r\n      </g>\r\n     </g>\r\n     <g id=\"text_11\">\r\n      <!-- 2 -->\r\n      <g transform=\"translate(7.2 232.283868)scale(0.1 -0.1)\">\r\n       <use xlink:href=\"#DejaVuSans-32\"/>\r\n      </g>\r\n     </g>\r\n    </g>\r\n    <g id=\"ytick_3\">\r\n     <g id=\"line2d_12\">\r\n      <g>\r\n       <use style=\"stroke:#000000;stroke-width:0.8;\" x=\"20.5625\" xlink:href=\"#m8033281915\" y=\"189.652086\"/>\r\n      </g>\r\n     </g>\r\n     <g id=\"text_12\">\r\n      <!-- 3 -->\r\n      <g transform=\"translate(7.2 193.451305)scale(0.1 -0.1)\">\r\n       <use xlink:href=\"#DejaVuSans-33\"/>\r\n      </g>\r\n     </g>\r\n    </g>\r\n    <g id=\"ytick_4\">\r\n     <g id=\"line2d_13\">\r\n      <g>\r\n       <use style=\"stroke:#000000;stroke-width:0.8;\" x=\"20.5625\" xlink:href=\"#m8033281915\" y=\"150.819524\"/>\r\n      </g>\r\n     </g>\r\n     <g id=\"text_13\">\r\n      <!-- 4 -->\r\n      <g transform=\"translate(7.2 154.618743)scale(0.1 -0.1)\">\r\n       <use xlink:href=\"#DejaVuSans-34\"/>\r\n      </g>\r\n     </g>\r\n    </g>\r\n    <g id=\"ytick_5\">\r\n     <g id=\"line2d_14\">\r\n      <g>\r\n       <use style=\"stroke:#000000;stroke-width:0.8;\" x=\"20.5625\" xlink:href=\"#m8033281915\" y=\"111.986961\"/>\r\n      </g>\r\n     </g>\r\n     <g id=\"text_14\">\r\n      <!-- 5 -->\r\n      <g transform=\"translate(7.2 115.78618)scale(0.1 -0.1)\">\r\n       <use xlink:href=\"#DejaVuSans-35\"/>\r\n      </g>\r\n     </g>\r\n    </g>\r\n    <g id=\"ytick_6\">\r\n     <g id=\"line2d_15\">\r\n      <g>\r\n       <use style=\"stroke:#000000;stroke-width:0.8;\" x=\"20.5625\" xlink:href=\"#m8033281915\" y=\"73.154399\"/>\r\n      </g>\r\n     </g>\r\n     <g id=\"text_15\">\r\n      <!-- 6 -->\r\n      <g transform=\"translate(7.2 76.953617)scale(0.1 -0.1)\">\r\n       <defs>\r\n        <path d=\"M 2113 2584 \r\nQ 1688 2584 1439 2293 \r\nQ 1191 2003 1191 1497 \r\nQ 1191 994 1439 701 \r\nQ 1688 409 2113 409 \r\nQ 2538 409 2786 701 \r\nQ 3034 994 3034 1497 \r\nQ 3034 2003 2786 2293 \r\nQ 2538 2584 2113 2584 \r\nz\r\nM 3366 4563 \r\nL 3366 3988 \r\nQ 3128 4100 2886 4159 \r\nQ 2644 4219 2406 4219 \r\nQ 1781 4219 1451 3797 \r\nQ 1122 3375 1075 2522 \r\nQ 1259 2794 1537 2939 \r\nQ 1816 3084 2150 3084 \r\nQ 2853 3084 3261 2657 \r\nQ 3669 2231 3669 1497 \r\nQ 3669 778 3244 343 \r\nQ 2819 -91 2113 -91 \r\nQ 1303 -91 875 529 \r\nQ 447 1150 447 2328 \r\nQ 447 3434 972 4092 \r\nQ 1497 4750 2381 4750 \r\nQ 2619 4750 2861 4703 \r\nQ 3103 4656 3366 4563 \r\nz\r\n\" id=\"DejaVuSans-36\" transform=\"scale(0.015625)\"/>\r\n       </defs>\r\n       <use xlink:href=\"#DejaVuSans-36\"/>\r\n      </g>\r\n     </g>\r\n    </g>\r\n    <g id=\"ytick_7\">\r\n     <g id=\"line2d_16\">\r\n      <g>\r\n       <use style=\"stroke:#000000;stroke-width:0.8;\" x=\"20.5625\" xlink:href=\"#m8033281915\" y=\"34.321836\"/>\r\n      </g>\r\n     </g>\r\n     <g id=\"text_16\">\r\n      <!-- 7 -->\r\n      <g transform=\"translate(7.2 38.121055)scale(0.1 -0.1)\">\r\n       <defs>\r\n        <path d=\"M 525 4666 \r\nL 3525 4666 \r\nL 3525 4397 \r\nL 1831 0 \r\nL 1172 0 \r\nL 2766 4134 \r\nL 525 4134 \r\nL 525 4666 \r\nz\r\n\" id=\"DejaVuSans-37\" transform=\"scale(0.015625)\"/>\r\n       </defs>\r\n       <use xlink:href=\"#DejaVuSans-37\"/>\r\n      </g>\r\n     </g>\r\n    </g>\r\n   </g>\r\n   <g id=\"line2d_17\">\r\n    <path clip-path=\"url(#pef920624bf)\" d=\"M 45.926136 19.8 \r\nL 58.933129 41.902525 \r\nL 71.940122 58.101385 \r\nL 84.947115 75.507827 \r\nL 97.954108 93.696158 \r\nL 110.961101 111.697542 \r\nL 123.968094 129.610547 \r\nL 136.975087 146.5438 \r\nL 149.98208 162.103801 \r\nL 162.989073 175.248303 \r\nL 175.996066 186.47738 \r\nL 189.003059 195.650527 \r\nL 202.010052 203.477154 \r\nL 215.017045 210.253043 \r\nL 228.024038 216.325933 \r\nL 241.031031 221.106605 \r\nL 254.038024 225.859843 \r\nL 267.045017 230.079358 \r\nL 280.05201 233.771622 \r\nL 293.059003 236.892072 \r\nL 306.065997 240.073164 \r\nL 319.07299 242.858527 \r\nL 332.079983 245.652559 \r\nL 345.086976 247.809586 \r\nL 358.093969 250.144144 \r\nL 371.100962 252.278933 \r\nL 384.107955 254.243708 \r\nL 397.114948 256.081285 \r\nL 410.121941 258.008689 \r\nL 423.128934 259.384083 \r\nL 436.135927 261.065573 \r\nL 449.14292 262.530378 \r\nL 462.149913 263.76225 \r\nL 475.156906 265.330632 \r\nL 488.163899 266.417992 \r\nL 501.170892 267.515167 \r\nL 514.177885 268.626931 \r\nL 527.184878 269.821862 \r\nL 540.191871 270.929578 \r\nL 553.198864 271.8 \r\n\" style=\"fill:none;stroke:#1f77b4;stroke-linecap:square;stroke-width:1.5;\"/>\r\n   </g>\r\n   <g id=\"line2d_18\">\r\n    <path clip-path=\"url(#pef920624bf)\" d=\"M 45.926136 77.810954 \r\nL 58.933129 86.736316 \r\nL 71.940122 95.514414 \r\nL 84.947115 104.456807 \r\nL 97.954108 109.120332 \r\nL 110.961101 110.475543 \r\nL 123.968094 110.042454 \r\nL 136.975087 111.160892 \r\nL 149.98208 109.435825 \r\nL 162.989073 106.368591 \r\nL 175.996066 102.707555 \r\nL 189.003059 97.742846 \r\nL 202.010052 98.506561 \r\nL 215.017045 94.596134 \r\nL 228.024038 91.912848 \r\nL 241.031031 88.835851 \r\nL 254.038024 81.236753 \r\nL 267.045017 80.889325 \r\nL 280.05201 80.328312 \r\nL 293.059003 75.57881 \r\nL 306.065997 70.856611 \r\nL 319.07299 69.303179 \r\nL 332.079983 60.870028 \r\nL 345.086976 60.386092 \r\nL 358.093969 59.568477 \r\nL 371.100962 55.746851 \r\nL 384.107955 52.801803 \r\nL 397.114948 51.470654 \r\nL 410.121941 41.980302 \r\nL 423.128934 46.175763 \r\nL 436.135927 41.940421 \r\nL 449.14292 40.283621 \r\nL 462.149913 40.772074 \r\nL 475.156906 36.766456 \r\nL 488.163899 35.760942 \r\nL 501.170892 34.351936 \r\nL 514.177885 31.591268 \r\nL 527.184878 29.234553 \r\nL 540.191871 25.413012 \r\nL 553.198864 27.075181 \r\n\" style=\"fill:none;stroke:#ff7f0e;stroke-linecap:square;stroke-width:1.5;\"/>\r\n   </g>\r\n   <g id=\"patch_3\">\r\n    <path d=\"M 20.5625 284.4 \r\nL 20.5625 7.2 \r\n\" style=\"fill:none;stroke:#000000;stroke-linecap:square;stroke-linejoin:miter;stroke-width:0.8;\"/>\r\n   </g>\r\n   <g id=\"patch_4\">\r\n    <path d=\"M 578.5625 284.4 \r\nL 578.5625 7.2 \r\n\" style=\"fill:none;stroke:#000000;stroke-linecap:square;stroke-linejoin:miter;stroke-width:0.8;\"/>\r\n   </g>\r\n   <g id=\"patch_5\">\r\n    <path d=\"M 20.5625 284.4 \r\nL 578.5625 284.4 \r\n\" style=\"fill:none;stroke:#000000;stroke-linecap:square;stroke-linejoin:miter;stroke-width:0.8;\"/>\r\n   </g>\r\n   <g id=\"patch_6\">\r\n    <path d=\"M 20.5625 7.2 \r\nL 578.5625 7.2 \r\n\" style=\"fill:none;stroke:#000000;stroke-linecap:square;stroke-linejoin:miter;stroke-width:0.8;\"/>\r\n   </g>\r\n   <g id=\"legend_1\">\r\n    <g id=\"patch_7\">\r\n     <path d=\"M 27.5625 279.4 \r\nL 131.290625 279.4 \r\nQ 133.290625 279.4 133.290625 277.4 \r\nL 133.290625 249.04375 \r\nQ 133.290625 247.04375 131.290625 247.04375 \r\nL 27.5625 247.04375 \r\nQ 25.5625 247.04375 25.5625 249.04375 \r\nL 25.5625 277.4 \r\nQ 25.5625 279.4 27.5625 279.4 \r\nz\r\n\" style=\"fill:#ffffff;opacity:0.8;stroke:#cccccc;stroke-linejoin:miter;\"/>\r\n    </g>\r\n    <g id=\"line2d_19\">\r\n     <path d=\"M 29.5625 255.142188 \r\nL 49.5625 255.142188 \r\n\" style=\"fill:none;stroke:#1f77b4;stroke-linecap:square;stroke-width:1.5;\"/>\r\n    </g>\r\n    <g id=\"line2d_20\"/>\r\n    <g id=\"text_17\">\r\n     <!-- train loss -->\r\n     <g transform=\"translate(57.5625 258.642188)scale(0.1 -0.1)\">\r\n      <defs>\r\n       <path d=\"M 1172 4494 \r\nL 1172 3500 \r\nL 2356 3500 \r\nL 2356 3053 \r\nL 1172 3053 \r\nL 1172 1153 \r\nQ 1172 725 1289 603 \r\nQ 1406 481 1766 481 \r\nL 2356 481 \r\nL 2356 0 \r\nL 1766 0 \r\nQ 1100 0 847 248 \r\nQ 594 497 594 1153 \r\nL 594 3053 \r\nL 172 3053 \r\nL 172 3500 \r\nL 594 3500 \r\nL 594 4494 \r\nL 1172 4494 \r\nz\r\n\" id=\"DejaVuSans-74\" transform=\"scale(0.015625)\"/>\r\n       <path d=\"M 2631 2963 \r\nQ 2534 3019 2420 3045 \r\nQ 2306 3072 2169 3072 \r\nQ 1681 3072 1420 2755 \r\nQ 1159 2438 1159 1844 \r\nL 1159 0 \r\nL 581 0 \r\nL 581 3500 \r\nL 1159 3500 \r\nL 1159 2956 \r\nQ 1341 3275 1631 3429 \r\nQ 1922 3584 2338 3584 \r\nQ 2397 3584 2469 3576 \r\nQ 2541 3569 2628 3553 \r\nL 2631 2963 \r\nz\r\n\" id=\"DejaVuSans-72\" transform=\"scale(0.015625)\"/>\r\n       <path d=\"M 2194 1759 \r\nQ 1497 1759 1228 1600 \r\nQ 959 1441 959 1056 \r\nQ 959 750 1161 570 \r\nQ 1363 391 1709 391 \r\nQ 2188 391 2477 730 \r\nQ 2766 1069 2766 1631 \r\nL 2766 1759 \r\nL 2194 1759 \r\nz\r\nM 3341 1997 \r\nL 3341 0 \r\nL 2766 0 \r\nL 2766 531 \r\nQ 2569 213 2275 61 \r\nQ 1981 -91 1556 -91 \r\nQ 1019 -91 701 211 \r\nQ 384 513 384 1019 \r\nQ 384 1609 779 1909 \r\nQ 1175 2209 1959 2209 \r\nL 2766 2209 \r\nL 2766 2266 \r\nQ 2766 2663 2505 2880 \r\nQ 2244 3097 1772 3097 \r\nQ 1472 3097 1187 3025 \r\nQ 903 2953 641 2809 \r\nL 641 3341 \r\nQ 956 3463 1253 3523 \r\nQ 1550 3584 1831 3584 \r\nQ 2591 3584 2966 3190 \r\nQ 3341 2797 3341 1997 \r\nz\r\n\" id=\"DejaVuSans-61\" transform=\"scale(0.015625)\"/>\r\n       <path d=\"M 603 3500 \r\nL 1178 3500 \r\nL 1178 0 \r\nL 603 0 \r\nL 603 3500 \r\nz\r\nM 603 4863 \r\nL 1178 4863 \r\nL 1178 4134 \r\nL 603 4134 \r\nL 603 4863 \r\nz\r\n\" id=\"DejaVuSans-69\" transform=\"scale(0.015625)\"/>\r\n       <path d=\"M 3513 2113 \r\nL 3513 0 \r\nL 2938 0 \r\nL 2938 2094 \r\nQ 2938 2591 2744 2837 \r\nQ 2550 3084 2163 3084 \r\nQ 1697 3084 1428 2787 \r\nQ 1159 2491 1159 1978 \r\nL 1159 0 \r\nL 581 0 \r\nL 581 3500 \r\nL 1159 3500 \r\nL 1159 2956 \r\nQ 1366 3272 1645 3428 \r\nQ 1925 3584 2291 3584 \r\nQ 2894 3584 3203 3211 \r\nQ 3513 2838 3513 2113 \r\nz\r\n\" id=\"DejaVuSans-6e\" transform=\"scale(0.015625)\"/>\r\n       <path id=\"DejaVuSans-20\" transform=\"scale(0.015625)\"/>\r\n       <path d=\"M 603 4863 \r\nL 1178 4863 \r\nL 1178 0 \r\nL 603 0 \r\nL 603 4863 \r\nz\r\n\" id=\"DejaVuSans-6c\" transform=\"scale(0.015625)\"/>\r\n       <path d=\"M 1959 3097 \r\nQ 1497 3097 1228 2736 \r\nQ 959 2375 959 1747 \r\nQ 959 1119 1226 758 \r\nQ 1494 397 1959 397 \r\nQ 2419 397 2687 759 \r\nQ 2956 1122 2956 1747 \r\nQ 2956 2369 2687 2733 \r\nQ 2419 3097 1959 3097 \r\nz\r\nM 1959 3584 \r\nQ 2709 3584 3137 3096 \r\nQ 3566 2609 3566 1747 \r\nQ 3566 888 3137 398 \r\nQ 2709 -91 1959 -91 \r\nQ 1206 -91 779 398 \r\nQ 353 888 353 1747 \r\nQ 353 2609 779 3096 \r\nQ 1206 3584 1959 3584 \r\nz\r\n\" id=\"DejaVuSans-6f\" transform=\"scale(0.015625)\"/>\r\n       <path d=\"M 2834 3397 \r\nL 2834 2853 \r\nQ 2591 2978 2328 3040 \r\nQ 2066 3103 1784 3103 \r\nQ 1356 3103 1142 2972 \r\nQ 928 2841 928 2578 \r\nQ 928 2378 1081 2264 \r\nQ 1234 2150 1697 2047 \r\nL 1894 2003 \r\nQ 2506 1872 2764 1633 \r\nQ 3022 1394 3022 966 \r\nQ 3022 478 2636 193 \r\nQ 2250 -91 1575 -91 \r\nQ 1294 -91 989 -36 \r\nQ 684 19 347 128 \r\nL 347 722 \r\nQ 666 556 975 473 \r\nQ 1284 391 1588 391 \r\nQ 1994 391 2212 530 \r\nQ 2431 669 2431 922 \r\nQ 2431 1156 2273 1281 \r\nQ 2116 1406 1581 1522 \r\nL 1381 1569 \r\nQ 847 1681 609 1914 \r\nQ 372 2147 372 2553 \r\nQ 372 3047 722 3315 \r\nQ 1072 3584 1716 3584 \r\nQ 2034 3584 2315 3537 \r\nQ 2597 3491 2834 3397 \r\nz\r\n\" id=\"DejaVuSans-73\" transform=\"scale(0.015625)\"/>\r\n      </defs>\r\n      <use xlink:href=\"#DejaVuSans-74\"/>\r\n      <use x=\"39.208984\" xlink:href=\"#DejaVuSans-72\"/>\r\n      <use x=\"80.322266\" xlink:href=\"#DejaVuSans-61\"/>\r\n      <use x=\"141.601562\" xlink:href=\"#DejaVuSans-69\"/>\r\n      <use x=\"169.384766\" xlink:href=\"#DejaVuSans-6e\"/>\r\n      <use x=\"232.763672\" xlink:href=\"#DejaVuSans-20\"/>\r\n      <use x=\"264.550781\" xlink:href=\"#DejaVuSans-6c\"/>\r\n      <use x=\"292.333984\" xlink:href=\"#DejaVuSans-6f\"/>\r\n      <use x=\"353.515625\" xlink:href=\"#DejaVuSans-73\"/>\r\n      <use x=\"405.615234\" xlink:href=\"#DejaVuSans-73\"/>\r\n     </g>\r\n    </g>\r\n    <g id=\"line2d_21\">\r\n     <path d=\"M 29.5625 269.820313 \r\nL 49.5625 269.820313 \r\n\" style=\"fill:none;stroke:#ff7f0e;stroke-linecap:square;stroke-width:1.5;\"/>\r\n    </g>\r\n    <g id=\"line2d_22\"/>\r\n    <g id=\"text_18\">\r\n     <!-- valiadtion loss -->\r\n     <g transform=\"translate(57.5625 273.320313)scale(0.1 -0.1)\">\r\n      <defs>\r\n       <path d=\"M 191 3500 \r\nL 800 3500 \r\nL 1894 563 \r\nL 2988 3500 \r\nL 3597 3500 \r\nL 2284 0 \r\nL 1503 0 \r\nL 191 3500 \r\nz\r\n\" id=\"DejaVuSans-76\" transform=\"scale(0.015625)\"/>\r\n       <path d=\"M 2906 2969 \r\nL 2906 4863 \r\nL 3481 4863 \r\nL 3481 0 \r\nL 2906 0 \r\nL 2906 525 \r\nQ 2725 213 2448 61 \r\nQ 2172 -91 1784 -91 \r\nQ 1150 -91 751 415 \r\nQ 353 922 353 1747 \r\nQ 353 2572 751 3078 \r\nQ 1150 3584 1784 3584 \r\nQ 2172 3584 2448 3432 \r\nQ 2725 3281 2906 2969 \r\nz\r\nM 947 1747 \r\nQ 947 1113 1208 752 \r\nQ 1469 391 1925 391 \r\nQ 2381 391 2643 752 \r\nQ 2906 1113 2906 1747 \r\nQ 2906 2381 2643 2742 \r\nQ 2381 3103 1925 3103 \r\nQ 1469 3103 1208 2742 \r\nQ 947 2381 947 1747 \r\nz\r\n\" id=\"DejaVuSans-64\" transform=\"scale(0.015625)\"/>\r\n      </defs>\r\n      <use xlink:href=\"#DejaVuSans-76\"/>\r\n      <use x=\"59.179688\" xlink:href=\"#DejaVuSans-61\"/>\r\n      <use x=\"120.458984\" xlink:href=\"#DejaVuSans-6c\"/>\r\n      <use x=\"148.242188\" xlink:href=\"#DejaVuSans-69\"/>\r\n      <use x=\"176.025391\" xlink:href=\"#DejaVuSans-61\"/>\r\n      <use x=\"237.304688\" xlink:href=\"#DejaVuSans-64\"/>\r\n      <use x=\"300.78125\" xlink:href=\"#DejaVuSans-74\"/>\r\n      <use x=\"339.990234\" xlink:href=\"#DejaVuSans-69\"/>\r\n      <use x=\"367.773438\" xlink:href=\"#DejaVuSans-6f\"/>\r\n      <use x=\"428.955078\" xlink:href=\"#DejaVuSans-6e\"/>\r\n      <use x=\"492.333984\" xlink:href=\"#DejaVuSans-20\"/>\r\n      <use x=\"524.121094\" xlink:href=\"#DejaVuSans-6c\"/>\r\n      <use x=\"551.904297\" xlink:href=\"#DejaVuSans-6f\"/>\r\n      <use x=\"613.085938\" xlink:href=\"#DejaVuSans-73\"/>\r\n      <use x=\"665.185547\" xlink:href=\"#DejaVuSans-73\"/>\r\n     </g>\r\n    </g>\r\n   </g>\r\n  </g>\r\n </g>\r\n <defs>\r\n  <clipPath id=\"pef920624bf\">\r\n   <rect height=\"277.2\" width=\"558\" x=\"20.5625\" y=\"7.2\"/>\r\n  </clipPath>\r\n </defs>\r\n</svg>\r\n",
      "image/png": "[encoded data removed]"
     },
     "metadata": {}
    }
   ],
   "metadata": {}
  },
  {
   "cell_type": "markdown",
   "source": [
    "## Translation"
   ],
   "metadata": {}
  },
  {
   "cell_type": "code",
   "execution_count": 47,
   "source": [
    "def translate_sentence(model,sentence,srcField,targetField,srcTokenizer):\r\n",
    "    model.eval()\r\n",
    "    processed_sentence = srcField.process([srcTokenizer(sentence)]).to(device)\r\n",
    "    trg = [\"بداية\"]\r\n",
    "\r\n",
    "    for _ in range(60):\r\n",
    "        trg_indecies = [targetField.vocab.stoi[word] for word in trg]\r\n",
    "        trg_tensor = torch.LongTensor(trg_indecies).unsqueeze(1).to(device)\r\n",
    "        outputs = model(processed_sentence,trg_tensor)\r\n",
    "        \r\n",
    "        if targetField.vocab.itos[outputs.argmax(2)[-1:].item()] == \"<unk>\":\r\n",
    "            continue \r\n",
    "        trg.append(targetField.vocab.itos[outputs.argmax(2)[-1:].item()])\r\n",
    "        if targetField.vocab.itos[outputs.argmax(2)[-1:].item()] == \"نهاية\":\r\n",
    "            break\r\n",
    "    return \" \".join([word for word in trg if word != \"<unk>\"][1:-1])\r\n"
   ],
   "outputs": [],
   "metadata": {}
  },
  {
   "cell_type": "code",
   "execution_count": 51,
   "source": [
    "translate_sentence(model,\"I'm at home\" ,SRC,TRG,engTokenizer)"
   ],
   "outputs": [
    {
     "output_type": "execute_result",
     "data": {
      "text/plain": [
       "'أنا في البيت الآن'"
      ]
     },
     "metadata": {},
     "execution_count": 51
    }
   ],
   "metadata": {}
  },
  {
   "cell_type": "code",
   "execution_count": 52,
   "source": [
    "translate_sentence(model,\"I'm alone\" ,SRC,TRG,engTokenizer)"
   ],
   "outputs": [
    {
     "output_type": "execute_result",
     "data": {
      "text/plain": [
       "'أنا لوحدي'"
      ]
     },
     "metadata": {},
     "execution_count": 52
    }
   ],
   "metadata": {}
  },
  {
   "cell_type": "code",
   "execution_count": 59,
   "source": [
    "translate_sentence(model,\"I'm sad\" ,SRC,TRG,engTokenizer)"
   ],
   "outputs": [
    {
     "output_type": "execute_result",
     "data": {
      "text/plain": [
       "'أنا حزين'"
      ]
     },
     "metadata": {},
     "execution_count": 59
    }
   ],
   "metadata": {}
  },
  {
   "cell_type": "code",
   "execution_count": 64,
   "source": [
    "translate_sentence(model,\"are you good\" ,SRC,TRG,engTokenizer)"
   ],
   "outputs": [
    {
     "output_type": "execute_result",
     "data": {
      "text/plain": [
       "'هل انت مصاب'"
      ]
     },
     "metadata": {},
     "execution_count": 64
    }
   ],
   "metadata": {}
  }
 ],
 "metadata": {
  "interpreter": {
   "hash": "4bb0fe8ced3cf0716ac3718fe834e829af40e8ba0fef1c4cadecb390da29a017"
  },
  "kernelspec": {
   "name": "python3",
   "display_name": "Python 3.7.11 64-bit ('torch': conda)"
  },
  "language_info": {
   "codemirror_mode": {
    "name": "ipython",
    "version": 3
   },
   "file_extension": ".py",
   "mimetype": "text/x-python",
   "name": "python",
   "nbconvert_exporter": "python",
   "pygments_lexer": "ipython3",
   "version": "3.7.11"
  }
 },
 "nbformat": 4,
 "nbformat_minor": 2
}