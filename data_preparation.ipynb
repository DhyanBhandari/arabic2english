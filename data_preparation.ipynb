{
 "cells": [
  {
   "cell_type": "code",
   "execution_count": 1,
   "source": [
    "# load doc into memory\r\n",
    "def load_doc(filename):\r\n",
    "\t# open the file as read only\r\n",
    "\tfile = open(filename, mode='rt', encoding='utf-8')\r\n",
    "\t# read all text\r\n",
    "\ttext = file.read()\r\n",
    "\t# close the file\r\n",
    "\tfile.close()\r\n",
    "\treturn text"
   ],
   "outputs": [],
   "metadata": {}
  },
  {
   "cell_type": "code",
   "execution_count": null,
   "source": [
    "# split a loaded document into sentences\r\n",
    "def to_sentences(doc):\r\n",
    "\treturn doc.strip().split('\\n')"
   ],
   "outputs": [],
   "metadata": {}
  },
  {
   "cell_type": "code",
   "execution_count": null,
   "source": [
    "# shortest and longest sentence lengths\r\n",
    "def sentence_lengths(sentences):\r\n",
    "\tlengths = [len(s.split()) for s in sentences]\r\n",
    "\treturn min(lengths), max(lengths)"
   ],
   "outputs": [],
   "metadata": {}
  },
  {
   "cell_type": "code",
   "execution_count": null,
   "source": [
    "# load doc into memory\r\n",
    "def load_doc(filename):\r\n",
    "\t# open the file as read only\r\n",
    "\tfile = open(filename, mode='rt', encoding='utf-8')\r\n",
    "\t# read all text\r\n",
    "\ttext = file.read()\r\n",
    "\t# close the file\r\n",
    "\tfile.close()\r\n",
    "\treturn text\r\n",
    "\r\n",
    "# split a loaded document into sentences\r\n",
    "def to_sentences(doc):\r\n",
    "\treturn doc.strip().split('\\n')\r\n",
    "\r\n",
    "# shortest and longest sentence lengths\r\n",
    "def sentence_lengths(sentences):\r\n",
    "\tlengths = [len(s.split()) for s in sentences]\r\n",
    "\treturn min(lengths), max(lengths)"
   ],
   "outputs": [],
   "metadata": {}
  },
  {
   "cell_type": "code",
   "execution_count": 11,
   "source": [
    "# load 1st Arabic data\r\n",
    "arabic_filename = 'data/Arab-Acquis/Arabic-Translations/dev.en_ref.ar'\r\n",
    "arabic_doc = load_doc(arabic_filename)\r\n",
    "arabic_sentences = to_sentences(arabic_doc)\r\n",
    "minlen1, maxlen1 = sentence_lengths(arabic_sentences)\r\n",
    "print('Arabic data: sentences=%d, min=%d, max=%d' % (len(arabic_sentences), minlen1, maxlen1))\r\n",
    "\r\n",
    "# load 1st English data\r\n",
    "english_filename = 'data/Arab-Acquis/JRC-ACQUIS/ac-dev.en'\r\n",
    "english_doc = load_doc(english_filename)\r\n",
    "english_sentences = to_sentences(english_doc)\r\n",
    "minlen2, maxlen2 = sentence_lengths(english_sentences)\r\n",
    "print('English data: sentences=%d, min=%d, max=%d' % (len(english_sentences), minlen2, maxlen2))"
   ],
   "outputs": [
    {
     "output_type": "stream",
     "name": "stdout",
     "text": [
      "Arabic data: sentences=4108, min=1, max=248\n",
      "English data: sentences=4107, min=1, max=289\n"
     ]
    }
   ],
   "metadata": {}
  },
  {
   "cell_type": "code",
   "execution_count": null,
   "source": [
    "# load 2nd Arabic data\r\n",
    "arabic_filename = 'data/Arab-Acquis/Arabic-Translations/dev.en_ref.ar'\r\n",
    "arabic_doc = load_doc(arabic_filename)\r\n",
    "arabic_sentences = to_sentences(arabic_doc)\r\n",
    "minlen1, maxlen1 = sentence_lengths(arabic_sentences)\r\n",
    "print('Arabic data: sentences=%d, min=%d, max=%d' % (len(arabic_sentences), minlen1, maxlen1))\r\n",
    "\r\n",
    "# load 2nd English data\r\n",
    "english_filename = 'data/Arab-Acquis/JRC-ACQUIS/ac-dev.en'\r\n",
    "english_doc = load_doc(english_filename)\r\n",
    "english_sentences = to_sentences(english_doc)\r\n",
    "minlen2, maxlen2 = sentence_lengths(english_sentences)\r\n",
    "print('English data: sentences=%d, min=%d, max=%d' % (len(english_sentences), minlen2, maxlen2))"
   ],
   "outputs": [],
   "metadata": {}
  },
  {
   "cell_type": "code",
   "execution_count": null,
   "source": [
    "# load 3rd Arabic data\r\n",
    "arabic_filename = 'data/Arab-Acquis/Arabic-Translations/dev.en_ref.ar'\r\n",
    "arabic_doc = load_doc(arabic_filename)\r\n",
    "arabic_sentences = to_sentences(arabic_doc)\r\n",
    "minlen1, maxlen1 = sentence_lengths(arabic_sentences)\r\n",
    "print('Arabic data: sentences=%d, min=%d, max=%d' % (len(arabic_sentences), minlen1, maxlen1))\r\n",
    "\r\n",
    "# load 3rd English data\r\n",
    "english_filename = 'data/Arab-Acquis/JRC-ACQUIS/ac-dev.en'\r\n",
    "english_doc = load_doc(english_filename)\r\n",
    "english_sentences = to_sentences(english_doc)\r\n",
    "minlen2, maxlen2 = sentence_lengths(english_sentences)\r\n",
    "print('English data: sentences=%d, min=%d, max=%d' % (len(english_sentences), minlen2, maxlen2))"
   ],
   "outputs": [],
   "metadata": {}
  },
  {
   "cell_type": "code",
   "execution_count": null,
   "source": [
    "df"
   ],
   "outputs": [],
   "metadata": {}
  },
  {
   "cell_type": "code",
   "execution_count": 12,
   "source": [
    "import pandas as pd\r\n",
    "df = pd.DataFrame(list(zip(english_sentences,arabic_sentences)), columns=['english','arabic'])"
   ],
   "outputs": [],
   "metadata": {}
  },
  {
   "cell_type": "code",
   "execution_count": 13,
   "source": [
    "df.to_csv(\"data.txt\")"
   ],
   "outputs": [],
   "metadata": {}
  },
  {
   "cell_type": "code",
   "execution_count": null,
   "source": [],
   "outputs": [],
   "metadata": {}
  }
 ],
 "metadata": {
  "orig_nbformat": 4,
  "language_info": {
   "name": "python",
   "version": "3.7.11",
   "mimetype": "text/x-python",
   "codemirror_mode": {
    "name": "ipython",
    "version": 3
   },
   "pygments_lexer": "ipython3",
   "nbconvert_exporter": "python",
   "file_extension": ".py"
  },
  "kernelspec": {
   "name": "python3",
   "display_name": "Python 3.7.11 64-bit ('torch': conda)"
  },
  "interpreter": {
   "hash": "4bb0fe8ced3cf0716ac3718fe834e829af40e8ba0fef1c4cadecb390da29a017"
  }
 },
 "nbformat": 4,
 "nbformat_minor": 2
}